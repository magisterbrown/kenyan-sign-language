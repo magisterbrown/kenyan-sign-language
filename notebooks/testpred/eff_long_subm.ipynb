{
 "cells": [
  {
   "cell_type": "code",
   "execution_count": 1,
   "metadata": {
    "colab": {
     "base_uri": "https://localhost:8080/"
    },
    "id": "Wh0YXVYhlZiH",
    "outputId": "41d237e1-5ec6-49f7-a9b5-b021eb1c8736"
   },
   "outputs": [
    {
     "name": "stdout",
     "output_type": "stream",
     "text": [
      "fatal: destination path 'kenyan-sign-language' already exists and is not an empty directory.\n",
      "/content/kenyan-sign-language\n"
     ]
    }
   ],
   "source": [
    "!git clone  https://<username>:<token>@github.com/TeamEpochGithub/kenyan-sign-language.git\n",
    "%cd kenyan-sign-language\n",
    "!git submodule update --init"
   ]
  },
  {
   "cell_type": "code",
   "execution_count": 2,
   "metadata": {
    "id": "zF2vK2JPrmVN"
   },
   "outputs": [],
   "source": [
    "!pip3 install tensorflow-addons --quiet"
   ]
  },
  {
   "cell_type": "code",
   "execution_count": 3,
   "metadata": {
    "id": "5LfMlQqJrjl7"
   },
   "outputs": [],
   "source": [
    "import sys\n",
    "sys.path.append(\"models/tensorflow/automl/efficientnetv2\")"
   ]
  },
  {
   "cell_type": "code",
   "execution_count": 4,
   "metadata": {
    "id": "bAT53LMTrPrU"
   },
   "outputs": [],
   "source": [
    "import numpy as np\n",
    "import pandas as pd\n",
    "import tensorflow as tf\n",
    "from src.preprocessing.tf_dataset_parsers import TfLabler\n",
    "from src.preprocessing.tf_dataset_parsers import TfSubmiter\n",
    "from src.preprocessing.tf_dataset_parsers import TfPresenter\n",
    "from src.models.efficentnetV2 import EffiecntHead\n",
    "from src.helpers import count_ds\n",
    "from src.models.land import LandmarkHead\n",
    "\n",
    "from src.preprocessing.runtime_preprocessors import randaugment_with_chioce\n",
    "from src.tpu import connect\n",
    "from src.tf_submission import generator\n",
    "\n",
    "from tensorflow.keras.applications import MobileNetV3Large\n",
    "from tensorflow.keras.optimizers.schedules import CosineDecay\n",
    "\n",
    "import tensorflow_addons as tfa\n",
    "from tensorflow_addons.optimizers import SGDW\n",
    "\n",
    "from effnetv2_model import get_model\n",
    "\n",
    "from src.models.warmup import WarmupSchedule\n",
    "import random\n",
    "random.seed(1)\n",
    "np.random.seed(1)\n",
    "tf.random.set_seed(1)"
   ]
  },
  {
   "cell_type": "code",
   "execution_count": 5,
   "metadata": {
    "id": "fVT1bNBrr6aF"
   },
   "outputs": [],
   "source": [
    "def normalize(image):\n",
    "  image = tf.cast(image,tf.float32)/127.5\n",
    "  image = image - 1\n",
    "  return image\n",
    "\n",
    "\n",
    "available_ops = [\n",
    "    'AutoContrast', 'Equalize', 'Invert', 'Rotate', 'Posterize',\n",
    "    'Solarize', 'Color', 'Contrast', 'Brightness', 'Sharpness',\n",
    "    'ShearX', 'ShearY', 'TranslateX', 'TranslateY', 'Cutout', 'SolarizeAdd']\n",
    "augmenter = lambda x: randaugment_with_chioce(x,5,7,available_ops)"
   ]
  },
  {
   "cell_type": "code",
   "execution_count": 6,
   "metadata": {
    "colab": {
     "base_uri": "https://localhost:8080/"
    },
    "id": "BsZxOFhq1y1C",
    "outputId": "9acc4174-cdf3-4689-daba-a5f1176b95fc"
   },
   "outputs": [
    {
     "name": "stdout",
     "output_type": "stream",
     "text": [
      "Running on TPU  ['10.22.32.170:8470']\n",
      "INFO:tensorflow:Deallocate tpu buffers before initializing tpu system.\n"
     ]
    },
    {
     "name": "stderr",
     "output_type": "stream",
     "text": [
      "INFO:tensorflow:Deallocate tpu buffers before initializing tpu system.\n"
     ]
    },
    {
     "name": "stdout",
     "output_type": "stream",
     "text": [
      "INFO:tensorflow:Initializing the TPU system: grpc://10.22.32.170:8470\n"
     ]
    },
    {
     "name": "stderr",
     "output_type": "stream",
     "text": [
      "INFO:tensorflow:Initializing the TPU system: grpc://10.22.32.170:8470\n"
     ]
    },
    {
     "name": "stdout",
     "output_type": "stream",
     "text": [
      "INFO:tensorflow:Finished initializing TPU system.\n"
     ]
    },
    {
     "name": "stderr",
     "output_type": "stream",
     "text": [
      "INFO:tensorflow:Finished initializing TPU system.\n",
      "WARNING:absl:`tf.distribute.experimental.TPUStrategy` is deprecated, please use  the non experimental symbol `tf.distribute.TPUStrategy` instead.\n"
     ]
    },
    {
     "name": "stdout",
     "output_type": "stream",
     "text": [
      "INFO:tensorflow:Found TPU system:\n"
     ]
    },
    {
     "name": "stderr",
     "output_type": "stream",
     "text": [
      "INFO:tensorflow:Found TPU system:\n"
     ]
    },
    {
     "name": "stdout",
     "output_type": "stream",
     "text": [
      "INFO:tensorflow:*** Num TPU Cores: 8\n"
     ]
    },
    {
     "name": "stderr",
     "output_type": "stream",
     "text": [
      "INFO:tensorflow:*** Num TPU Cores: 8\n"
     ]
    },
    {
     "name": "stdout",
     "output_type": "stream",
     "text": [
      "INFO:tensorflow:*** Num TPU Workers: 1\n"
     ]
    },
    {
     "name": "stderr",
     "output_type": "stream",
     "text": [
      "INFO:tensorflow:*** Num TPU Workers: 1\n"
     ]
    },
    {
     "name": "stdout",
     "output_type": "stream",
     "text": [
      "INFO:tensorflow:*** Num TPU Cores Per Worker: 8\n"
     ]
    },
    {
     "name": "stderr",
     "output_type": "stream",
     "text": [
      "INFO:tensorflow:*** Num TPU Cores Per Worker: 8\n"
     ]
    },
    {
     "name": "stdout",
     "output_type": "stream",
     "text": [
      "INFO:tensorflow:*** Available Device: _DeviceAttributes(/job:localhost/replica:0/task:0/device:CPU:0, CPU, 0, 0)\n"
     ]
    },
    {
     "name": "stderr",
     "output_type": "stream",
     "text": [
      "INFO:tensorflow:*** Available Device: _DeviceAttributes(/job:localhost/replica:0/task:0/device:CPU:0, CPU, 0, 0)\n"
     ]
    },
    {
     "name": "stdout",
     "output_type": "stream",
     "text": [
      "INFO:tensorflow:*** Available Device: _DeviceAttributes(/job:worker/replica:0/task:0/device:CPU:0, CPU, 0, 0)\n"
     ]
    },
    {
     "name": "stderr",
     "output_type": "stream",
     "text": [
      "INFO:tensorflow:*** Available Device: _DeviceAttributes(/job:worker/replica:0/task:0/device:CPU:0, CPU, 0, 0)\n"
     ]
    },
    {
     "name": "stdout",
     "output_type": "stream",
     "text": [
      "INFO:tensorflow:*** Available Device: _DeviceAttributes(/job:worker/replica:0/task:0/device:TPU:0, TPU, 0, 0)\n"
     ]
    },
    {
     "name": "stderr",
     "output_type": "stream",
     "text": [
      "INFO:tensorflow:*** Available Device: _DeviceAttributes(/job:worker/replica:0/task:0/device:TPU:0, TPU, 0, 0)\n"
     ]
    },
    {
     "name": "stdout",
     "output_type": "stream",
     "text": [
      "INFO:tensorflow:*** Available Device: _DeviceAttributes(/job:worker/replica:0/task:0/device:TPU:1, TPU, 0, 0)\n"
     ]
    },
    {
     "name": "stderr",
     "output_type": "stream",
     "text": [
      "INFO:tensorflow:*** Available Device: _DeviceAttributes(/job:worker/replica:0/task:0/device:TPU:1, TPU, 0, 0)\n"
     ]
    },
    {
     "name": "stdout",
     "output_type": "stream",
     "text": [
      "INFO:tensorflow:*** Available Device: _DeviceAttributes(/job:worker/replica:0/task:0/device:TPU:2, TPU, 0, 0)\n"
     ]
    },
    {
     "name": "stderr",
     "output_type": "stream",
     "text": [
      "INFO:tensorflow:*** Available Device: _DeviceAttributes(/job:worker/replica:0/task:0/device:TPU:2, TPU, 0, 0)\n"
     ]
    },
    {
     "name": "stdout",
     "output_type": "stream",
     "text": [
      "INFO:tensorflow:*** Available Device: _DeviceAttributes(/job:worker/replica:0/task:0/device:TPU:3, TPU, 0, 0)\n"
     ]
    },
    {
     "name": "stderr",
     "output_type": "stream",
     "text": [
      "INFO:tensorflow:*** Available Device: _DeviceAttributes(/job:worker/replica:0/task:0/device:TPU:3, TPU, 0, 0)\n"
     ]
    },
    {
     "name": "stdout",
     "output_type": "stream",
     "text": [
      "INFO:tensorflow:*** Available Device: _DeviceAttributes(/job:worker/replica:0/task:0/device:TPU:4, TPU, 0, 0)\n"
     ]
    },
    {
     "name": "stderr",
     "output_type": "stream",
     "text": [
      "INFO:tensorflow:*** Available Device: _DeviceAttributes(/job:worker/replica:0/task:0/device:TPU:4, TPU, 0, 0)\n"
     ]
    },
    {
     "name": "stdout",
     "output_type": "stream",
     "text": [
      "INFO:tensorflow:*** Available Device: _DeviceAttributes(/job:worker/replica:0/task:0/device:TPU:5, TPU, 0, 0)\n"
     ]
    },
    {
     "name": "stderr",
     "output_type": "stream",
     "text": [
      "INFO:tensorflow:*** Available Device: _DeviceAttributes(/job:worker/replica:0/task:0/device:TPU:5, TPU, 0, 0)\n"
     ]
    },
    {
     "name": "stdout",
     "output_type": "stream",
     "text": [
      "INFO:tensorflow:*** Available Device: _DeviceAttributes(/job:worker/replica:0/task:0/device:TPU:6, TPU, 0, 0)\n"
     ]
    },
    {
     "name": "stderr",
     "output_type": "stream",
     "text": [
      "INFO:tensorflow:*** Available Device: _DeviceAttributes(/job:worker/replica:0/task:0/device:TPU:6, TPU, 0, 0)\n"
     ]
    },
    {
     "name": "stdout",
     "output_type": "stream",
     "text": [
      "INFO:tensorflow:*** Available Device: _DeviceAttributes(/job:worker/replica:0/task:0/device:TPU:7, TPU, 0, 0)\n"
     ]
    },
    {
     "name": "stderr",
     "output_type": "stream",
     "text": [
      "INFO:tensorflow:*** Available Device: _DeviceAttributes(/job:worker/replica:0/task:0/device:TPU:7, TPU, 0, 0)\n"
     ]
    },
    {
     "name": "stdout",
     "output_type": "stream",
     "text": [
      "INFO:tensorflow:*** Available Device: _DeviceAttributes(/job:worker/replica:0/task:0/device:TPU_SYSTEM:0, TPU_SYSTEM, 0, 0)\n"
     ]
    },
    {
     "name": "stderr",
     "output_type": "stream",
     "text": [
      "INFO:tensorflow:*** Available Device: _DeviceAttributes(/job:worker/replica:0/task:0/device:TPU_SYSTEM:0, TPU_SYSTEM, 0, 0)\n"
     ]
    },
    {
     "name": "stdout",
     "output_type": "stream",
     "text": [
      "INFO:tensorflow:*** Available Device: _DeviceAttributes(/job:worker/replica:0/task:0/device:XLA_CPU:0, XLA_CPU, 0, 0)\n"
     ]
    },
    {
     "name": "stderr",
     "output_type": "stream",
     "text": [
      "INFO:tensorflow:*** Available Device: _DeviceAttributes(/job:worker/replica:0/task:0/device:XLA_CPU:0, XLA_CPU, 0, 0)\n"
     ]
    },
    {
     "name": "stdout",
     "output_type": "stream",
     "text": [
      "REPLICAS:  8\n"
     ]
    }
   ],
   "source": [
    "strategy = connect()"
   ]
  },
  {
   "cell_type": "markdown",
   "metadata": {
    "id": "8MZT9oDgQAeY"
   },
   "source": [
    "# Experiment 1"
   ]
  },
  {
   "cell_type": "code",
   "execution_count": 7,
   "metadata": {
    "id": "R4y7NYhV2Km1"
   },
   "outputs": [],
   "source": [
    "# Try 19\n",
    "# [I 2022-02-07 17:32:17,782] Trial 19 finished with value: 0.19401868879795076 and parameters: {'lr': 0.42747552824846474, 'lr_back': 0.2957642320558607, 'momentum': 0.42250027093428355, 'nesterov': True, 'weght_decay': 3.8052651581643845e-05, 'epochs': 8, 'layers': 5, 'strength': 7, 'alpha': 0.6346375572327532}. Best is trial 19 with value: 0.19401868879795076."
   ]
  },
  {
   "cell_type": "code",
   "execution_count": 8,
   "metadata": {
    "id": "KTXsnST-3R4X"
   },
   "outputs": [],
   "source": [
    "def make_cos(lr,count,epochs,alpha):\n",
    "  mainsched = tf.keras.optimizers.schedules.CosineDecay(\n",
    "        lr, count*epochs, name=None, alpha=alpha\n",
    "      )\n",
    "  warmuped = WarmupSchedule(count*3, mainsched)\n",
    "\n",
    "  return warmuped\n",
    "def init_model(count):\n",
    "  tf.keras.backend.clear_session()\n",
    "  with strategy.scope():\n",
    "    eff_back = get_model(model_name='efficientnetv2-m',weights=None,include_top=False, training=True)\n",
    "    pretrained_ckpt = tf.train.latest_checkpoint('gs://chimps-first/efficientnetv2-m-21k')\n",
    "    eff_back.load_weights(pretrained_ckpt)\n",
    "    model = LandmarkHead(eff_back)\n",
    "\n",
    "    momentum = 0.42\n",
    "    wd = 3.8e-05\n",
    "    nest = True\n",
    "    epochs = 18\n",
    "    alpha = 0.635\n",
    "\n",
    "    scheduer_head = make_cos(0.427,count,epochs,alpha)\n",
    "    sgd_head = SGDW(learning_rate=scheduer_head,momentum=momentum,weight_decay=wd,nesterov=nest)\n",
    "    scheduer_back = make_cos(0.126,count,epochs,alpha)\n",
    "    sgd_back = SGDW(learning_rate=scheduer_back,momentum=momentum,weight_decay=wd,nesterov=nest)\n",
    "    model.compute_output_shape(input_shape=(None,480,480,3))\n",
    "    optimizers_and_layers = [(sgd_back, model.back), (sgd_head, model.head)]\n",
    "    optimizer = tfa.optimizers.MultiOptimizer(optimizers_and_layers)\n",
    "    model.compile(\n",
    "    optimizer=optimizer,\n",
    "    loss=tf.keras.losses.SparseCategoricalCrossentropy())\n",
    "\n",
    "  return model"
   ]
  },
  {
   "cell_type": "code",
   "execution_count": 9,
   "metadata": {
    "id": "Eica8JxfHSVM"
   },
   "outputs": [],
   "source": [
    "parser = TfLabler(processors=[augmenter,normalize])\n",
    "alltfr = tf.data.TFRecordDataset(\"gs://chimps-first/data/signs.tfrecords\")\n",
    "all = alltfr.map(parser, num_parallel_calls=tf.data.AUTOTUNE).shuffle(128, reshuffle_each_iteration=True).batch(64,drop_remainder=True).prefetch(4)\n",
    "count = alltfr.batch(64,drop_remainder=True)\n",
    "count = count_ds(count)"
   ]
  },
  {
   "cell_type": "markdown",
   "metadata": {
    "id": "8Zodkpai1Hn3"
   },
   "source": [
    "# Trainer"
   ]
  },
  {
   "cell_type": "code",
   "execution_count": 10,
   "metadata": {
    "colab": {
     "base_uri": "https://localhost:8080/"
    },
    "id": "uS_C_GaSKMQS",
    "outputId": "94da0fc6-d72e-47df-e676-de9e70837bc1"
   },
   "outputs": [
    {
     "name": "stdout",
     "output_type": "stream",
     "text": [
      "WARNING:tensorflow:From /usr/local/lib/python3.7/dist-packages/tensorflow/python/training/tracking/util.py:1345: NameBasedSaverStatus.__init__ (from tensorflow.python.training.tracking.util) is deprecated and will be removed in a future version.\n",
      "Instructions for updating:\n",
      "Restoring a name-based tf.train.Saver checkpoint using the object-based restore API. This mode uses global names to match variables, and so is somewhat fragile. It also adds new restore ops to the graph each time it is called when graph building. Prefer re-encoding training checkpoints in the object-based format: run save() on the object-based saver (the same one this message is coming from) and use that checkpoint in the future.\n"
     ]
    },
    {
     "name": "stderr",
     "output_type": "stream",
     "text": [
      "WARNING:tensorflow:From /usr/local/lib/python3.7/dist-packages/tensorflow/python/training/tracking/util.py:1345: NameBasedSaverStatus.__init__ (from tensorflow.python.training.tracking.util) is deprecated and will be removed in a future version.\n",
      "Instructions for updating:\n",
      "Restoring a name-based tf.train.Saver checkpoint using the object-based restore API. This mode uses global names to match variables, and so is somewhat fragile. It also adds new restore ops to the graph each time it is called when graph building. Prefer re-encoding training checkpoints in the object-based format: run save() on the object-based saver (the same one this message is coming from) and use that checkpoint in the future.\n"
     ]
    },
    {
     "name": "stdout",
     "output_type": "stream",
     "text": [
      "Epoch 1/21\n",
      "WARNING:tensorflow:From /usr/local/lib/python3.7/dist-packages/keras/engine/training.py:2970: StrategyBase.unwrap (from tensorflow.python.distribute.distribute_lib) is deprecated and will be removed in a future version.\n",
      "Instructions for updating:\n",
      "use `experimental_local_results` instead.\n"
     ]
    },
    {
     "name": "stderr",
     "output_type": "stream",
     "text": [
      "WARNING:tensorflow:From /usr/local/lib/python3.7/dist-packages/keras/engine/training.py:2970: StrategyBase.unwrap (from tensorflow.python.distribute.distribute_lib) is deprecated and will be removed in a future version.\n",
      "Instructions for updating:\n",
      "use `experimental_local_results` instead.\n"
     ]
    },
    {
     "name": "stdout",
     "output_type": "stream",
     "text": [
      "97/97 [==============================] - 212s 294ms/step - loss: 2.1752\n",
      "Epoch 2/21\n",
      "97/97 [==============================] - 32s 291ms/step - loss: 0.8852\n",
      "Epoch 3/21\n",
      "97/97 [==============================] - 32s 290ms/step - loss: 0.5807\n",
      "Epoch 4/21\n",
      "97/97 [==============================] - 32s 290ms/step - loss: 0.4117\n",
      "Epoch 5/21\n",
      "97/97 [==============================] - 32s 293ms/step - loss: 0.2840\n",
      "Epoch 6/21\n",
      "97/97 [==============================] - 32s 290ms/step - loss: 0.2142\n",
      "Epoch 7/21\n",
      "97/97 [==============================] - 33s 303ms/step - loss: 0.1788\n",
      "Epoch 8/21\n",
      "97/97 [==============================] - 32s 293ms/step - loss: 0.1243\n",
      "Epoch 9/21\n",
      "97/97 [==============================] - 32s 289ms/step - loss: 0.0945\n",
      "Epoch 10/21\n",
      "97/97 [==============================] - 32s 289ms/step - loss: 0.0965\n",
      "Epoch 11/21\n",
      "97/97 [==============================] - 32s 289ms/step - loss: 0.0649\n",
      "Epoch 12/21\n",
      "97/97 [==============================] - 32s 289ms/step - loss: 0.0679\n",
      "Epoch 13/21\n",
      "97/97 [==============================] - 32s 289ms/step - loss: 0.0554\n",
      "Epoch 14/21\n",
      "97/97 [==============================] - 32s 289ms/step - loss: 0.0447\n",
      "Epoch 15/21\n",
      "97/97 [==============================] - 32s 289ms/step - loss: 0.0443\n",
      "Epoch 16/21\n",
      "97/97 [==============================] - 32s 289ms/step - loss: 0.0345\n",
      "Epoch 17/21\n",
      "97/97 [==============================] - 32s 290ms/step - loss: 0.0368\n",
      "Epoch 18/21\n",
      "97/97 [==============================] - 32s 289ms/step - loss: 0.0360\n",
      "Epoch 19/21\n",
      "97/97 [==============================] - 32s 289ms/step - loss: 0.0334\n",
      "Epoch 20/21\n",
      "97/97 [==============================] - 32s 289ms/step - loss: 0.0225\n",
      "Epoch 21/21\n",
      "97/97 [==============================] - 32s 289ms/step - loss: 0.0205\n"
     ]
    }
   ],
   "source": [
    "model = init_model(count)\n",
    "history = model.fit(\n",
    "  all, epochs=21,verbose=True\n",
    ")"
   ]
  },
  {
   "cell_type": "markdown",
   "metadata": {
    "id": "dSuAbmuZKdsN"
   },
   "source": [
    "# Submit"
   ]
  },
  {
   "cell_type": "code",
   "execution_count": 11,
   "metadata": {
    "id": "2p5Udp45KayU"
   },
   "outputs": [],
   "source": [
    "authtoken = \"KHkJpqasteMDQGYAAgaBM2xe\"\n",
    "!wget --post-data=\"auth_token=$authtoken\" https://api.zindi.africa/v1/competitions/kenyan-sign-language-classification-challenge/files/SampleSubmission.csv -q"
   ]
  },
  {
   "cell_type": "code",
   "execution_count": 12,
   "metadata": {
    "colab": {
     "base_uri": "https://localhost:8080/",
     "height": 175
    },
    "id": "71vuiT8AKgEL",
    "outputId": "1cedc2c7-8e39-4bbe-bd2a-77905364ed9a"
   },
   "outputs": [
    {
     "data": {
      "text/html": [
       "\n",
       "  <div id=\"df-21a45cd6-7442-44bf-87b1-4e20bcc6e8ec\">\n",
       "    <div class=\"colab-df-container\">\n",
       "      <div>\n",
       "<style scoped>\n",
       "    .dataframe tbody tr th:only-of-type {\n",
       "        vertical-align: middle;\n",
       "    }\n",
       "\n",
       "    .dataframe tbody tr th {\n",
       "        vertical-align: top;\n",
       "    }\n",
       "\n",
       "    .dataframe thead th {\n",
       "        text-align: right;\n",
       "    }\n",
       "</style>\n",
       "<table border=\"1\" class=\"dataframe\">\n",
       "  <thead>\n",
       "    <tr style=\"text-align: right;\">\n",
       "      <th></th>\n",
       "      <th>Church</th>\n",
       "      <th>Enough/Satisfied</th>\n",
       "      <th>Friend</th>\n",
       "      <th>Love</th>\n",
       "      <th>Me</th>\n",
       "      <th>Mosque</th>\n",
       "      <th>Seat</th>\n",
       "      <th>Temple</th>\n",
       "      <th>You</th>\n",
       "    </tr>\n",
       "    <tr>\n",
       "      <th>img_IDS</th>\n",
       "      <th></th>\n",
       "      <th></th>\n",
       "      <th></th>\n",
       "      <th></th>\n",
       "      <th></th>\n",
       "      <th></th>\n",
       "      <th></th>\n",
       "      <th></th>\n",
       "      <th></th>\n",
       "    </tr>\n",
       "  </thead>\n",
       "  <tbody>\n",
       "    <tr>\n",
       "      <th>ImageID_USRB8QNG</th>\n",
       "      <td>NaN</td>\n",
       "      <td>NaN</td>\n",
       "      <td>NaN</td>\n",
       "      <td>NaN</td>\n",
       "      <td>NaN</td>\n",
       "      <td>NaN</td>\n",
       "      <td>NaN</td>\n",
       "      <td>NaN</td>\n",
       "      <td>NaN</td>\n",
       "    </tr>\n",
       "    <tr>\n",
       "      <th>ImageID_SZ8D1ZJI</th>\n",
       "      <td>NaN</td>\n",
       "      <td>NaN</td>\n",
       "      <td>NaN</td>\n",
       "      <td>NaN</td>\n",
       "      <td>NaN</td>\n",
       "      <td>NaN</td>\n",
       "      <td>NaN</td>\n",
       "      <td>NaN</td>\n",
       "      <td>NaN</td>\n",
       "    </tr>\n",
       "    <tr>\n",
       "      <th>ImageID_4OJO2F8J</th>\n",
       "      <td>NaN</td>\n",
       "      <td>NaN</td>\n",
       "      <td>NaN</td>\n",
       "      <td>NaN</td>\n",
       "      <td>NaN</td>\n",
       "      <td>NaN</td>\n",
       "      <td>NaN</td>\n",
       "      <td>NaN</td>\n",
       "      <td>NaN</td>\n",
       "    </tr>\n",
       "  </tbody>\n",
       "</table>\n",
       "</div>\n",
       "      <button class=\"colab-df-convert\" onclick=\"convertToInteractive('df-21a45cd6-7442-44bf-87b1-4e20bcc6e8ec')\"\n",
       "              title=\"Convert this dataframe to an interactive table.\"\n",
       "              style=\"display:none;\">\n",
       "        \n",
       "  <svg xmlns=\"http://www.w3.org/2000/svg\" height=\"24px\"viewBox=\"0 0 24 24\"\n",
       "       width=\"24px\">\n",
       "    <path d=\"M0 0h24v24H0V0z\" fill=\"none\"/>\n",
       "    <path d=\"M18.56 5.44l.94 2.06.94-2.06 2.06-.94-2.06-.94-.94-2.06-.94 2.06-2.06.94zm-11 1L8.5 8.5l.94-2.06 2.06-.94-2.06-.94L8.5 2.5l-.94 2.06-2.06.94zm10 10l.94 2.06.94-2.06 2.06-.94-2.06-.94-.94-2.06-.94 2.06-2.06.94z\"/><path d=\"M17.41 7.96l-1.37-1.37c-.4-.4-.92-.59-1.43-.59-.52 0-1.04.2-1.43.59L10.3 9.45l-7.72 7.72c-.78.78-.78 2.05 0 2.83L4 21.41c.39.39.9.59 1.41.59.51 0 1.02-.2 1.41-.59l7.78-7.78 2.81-2.81c.8-.78.8-2.07 0-2.86zM5.41 20L4 18.59l7.72-7.72 1.47 1.35L5.41 20z\"/>\n",
       "  </svg>\n",
       "      </button>\n",
       "      \n",
       "  <style>\n",
       "    .colab-df-container {\n",
       "      display:flex;\n",
       "      flex-wrap:wrap;\n",
       "      gap: 12px;\n",
       "    }\n",
       "\n",
       "    .colab-df-convert {\n",
       "      background-color: #E8F0FE;\n",
       "      border: none;\n",
       "      border-radius: 50%;\n",
       "      cursor: pointer;\n",
       "      display: none;\n",
       "      fill: #1967D2;\n",
       "      height: 32px;\n",
       "      padding: 0 0 0 0;\n",
       "      width: 32px;\n",
       "    }\n",
       "\n",
       "    .colab-df-convert:hover {\n",
       "      background-color: #E2EBFA;\n",
       "      box-shadow: 0px 1px 2px rgba(60, 64, 67, 0.3), 0px 1px 3px 1px rgba(60, 64, 67, 0.15);\n",
       "      fill: #174EA6;\n",
       "    }\n",
       "\n",
       "    [theme=dark] .colab-df-convert {\n",
       "      background-color: #3B4455;\n",
       "      fill: #D2E3FC;\n",
       "    }\n",
       "\n",
       "    [theme=dark] .colab-df-convert:hover {\n",
       "      background-color: #434B5C;\n",
       "      box-shadow: 0px 1px 3px 1px rgba(0, 0, 0, 0.15);\n",
       "      filter: drop-shadow(0px 1px 2px rgba(0, 0, 0, 0.3));\n",
       "      fill: #FFFFFF;\n",
       "    }\n",
       "  </style>\n",
       "\n",
       "      <script>\n",
       "        const buttonEl =\n",
       "          document.querySelector('#df-21a45cd6-7442-44bf-87b1-4e20bcc6e8ec button.colab-df-convert');\n",
       "        buttonEl.style.display =\n",
       "          google.colab.kernel.accessAllowed ? 'block' : 'none';\n",
       "\n",
       "        async function convertToInteractive(key) {\n",
       "          const element = document.querySelector('#df-21a45cd6-7442-44bf-87b1-4e20bcc6e8ec');\n",
       "          const dataTable =\n",
       "            await google.colab.kernel.invokeFunction('convertToInteractive',\n",
       "                                                     [key], {});\n",
       "          if (!dataTable) return;\n",
       "\n",
       "          const docLinkHtml = 'Like what you see? Visit the ' +\n",
       "            '<a target=\"_blank\" href=https://colab.research.google.com/notebooks/data_table.ipynb>data table notebook</a>'\n",
       "            + ' to learn more about interactive tables.';\n",
       "          element.innerHTML = '';\n",
       "          dataTable['output_type'] = 'display_data';\n",
       "          await google.colab.output.renderOutput(dataTable, element);\n",
       "          const docLink = document.createElement('div');\n",
       "          docLink.innerHTML = docLinkHtml;\n",
       "          element.appendChild(docLink);\n",
       "        }\n",
       "      </script>\n",
       "    </div>\n",
       "  </div>\n",
       "  "
      ],
      "text/plain": [
       "                  Church  Enough/Satisfied  Friend  ...  Seat  Temple  You\n",
       "img_IDS                                             ...                   \n",
       "ImageID_USRB8QNG     NaN               NaN     NaN  ...   NaN     NaN  NaN\n",
       "ImageID_SZ8D1ZJI     NaN               NaN     NaN  ...   NaN     NaN  NaN\n",
       "ImageID_4OJO2F8J     NaN               NaN     NaN  ...   NaN     NaN  NaN\n",
       "\n",
       "[3 rows x 9 columns]"
      ]
     },
     "execution_count": 12,
     "metadata": {},
     "output_type": "execute_result"
    }
   ],
   "source": [
    "subcs = pd.read_csv(\"SampleSubmission.csv\",index_col=0)\n",
    "subcs.head(3)"
   ]
  },
  {
   "cell_type": "code",
   "execution_count": 13,
   "metadata": {
    "colab": {
     "base_uri": "https://localhost:8080/",
     "height": 206
    },
    "id": "dtUUpVhsKjrF",
    "outputId": "af5725d5-7991-41f3-c0e5-e8988890f6c7"
   },
   "outputs": [
    {
     "data": {
      "text/html": [
       "\n",
       "  <div id=\"df-eac0fe3b-6079-4315-ade7-67b11bdda3ad\">\n",
       "    <div class=\"colab-df-container\">\n",
       "      <div>\n",
       "<style scoped>\n",
       "    .dataframe tbody tr th:only-of-type {\n",
       "        vertical-align: middle;\n",
       "    }\n",
       "\n",
       "    .dataframe tbody tr th {\n",
       "        vertical-align: top;\n",
       "    }\n",
       "\n",
       "    .dataframe thead th {\n",
       "        text-align: right;\n",
       "    }\n",
       "</style>\n",
       "<table border=\"1\" class=\"dataframe\">\n",
       "  <thead>\n",
       "    <tr style=\"text-align: right;\">\n",
       "      <th></th>\n",
       "      <th>Church</th>\n",
       "      <th>Enough/Satisfied</th>\n",
       "      <th>Friend</th>\n",
       "      <th>Love</th>\n",
       "      <th>Me</th>\n",
       "      <th>Mosque</th>\n",
       "      <th>Seat</th>\n",
       "      <th>Temple</th>\n",
       "      <th>You</th>\n",
       "    </tr>\n",
       "    <tr>\n",
       "      <th>img_IDS</th>\n",
       "      <th></th>\n",
       "      <th></th>\n",
       "      <th></th>\n",
       "      <th></th>\n",
       "      <th></th>\n",
       "      <th></th>\n",
       "      <th></th>\n",
       "      <th></th>\n",
       "      <th></th>\n",
       "    </tr>\n",
       "  </thead>\n",
       "  <tbody>\n",
       "    <tr>\n",
       "      <th>ImageID_USRB8QNG</th>\n",
       "      <td>0.000005</td>\n",
       "      <td>0.000004</td>\n",
       "      <td>0.000009</td>\n",
       "      <td>2.711812e-08</td>\n",
       "      <td>2.815764e-06</td>\n",
       "      <td>0.000004</td>\n",
       "      <td>4.953059e-08</td>\n",
       "      <td>0.999973</td>\n",
       "      <td>2.060387e-06</td>\n",
       "    </tr>\n",
       "    <tr>\n",
       "      <th>ImageID_SZ8D1ZJI</th>\n",
       "      <td>0.000005</td>\n",
       "      <td>0.999697</td>\n",
       "      <td>0.000073</td>\n",
       "      <td>1.210710e-05</td>\n",
       "      <td>1.323906e-05</td>\n",
       "      <td>0.000090</td>\n",
       "      <td>1.419947e-07</td>\n",
       "      <td>0.000096</td>\n",
       "      <td>1.224312e-05</td>\n",
       "    </tr>\n",
       "    <tr>\n",
       "      <th>ImageID_4OJO2F8J</th>\n",
       "      <td>0.000131</td>\n",
       "      <td>0.000036</td>\n",
       "      <td>0.000007</td>\n",
       "      <td>2.227589e-05</td>\n",
       "      <td>6.722541e-07</td>\n",
       "      <td>0.999802</td>\n",
       "      <td>7.180308e-07</td>\n",
       "      <td>0.000001</td>\n",
       "      <td>2.875655e-07</td>\n",
       "    </tr>\n",
       "    <tr>\n",
       "      <th>ImageID_IEE4XV0B</th>\n",
       "      <td>0.000020</td>\n",
       "      <td>0.000002</td>\n",
       "      <td>0.000003</td>\n",
       "      <td>6.295171e-06</td>\n",
       "      <td>6.918470e-06</td>\n",
       "      <td>0.999873</td>\n",
       "      <td>3.405277e-05</td>\n",
       "      <td>0.000054</td>\n",
       "      <td>3.916280e-07</td>\n",
       "    </tr>\n",
       "  </tbody>\n",
       "</table>\n",
       "</div>\n",
       "      <button class=\"colab-df-convert\" onclick=\"convertToInteractive('df-eac0fe3b-6079-4315-ade7-67b11bdda3ad')\"\n",
       "              title=\"Convert this dataframe to an interactive table.\"\n",
       "              style=\"display:none;\">\n",
       "        \n",
       "  <svg xmlns=\"http://www.w3.org/2000/svg\" height=\"24px\"viewBox=\"0 0 24 24\"\n",
       "       width=\"24px\">\n",
       "    <path d=\"M0 0h24v24H0V0z\" fill=\"none\"/>\n",
       "    <path d=\"M18.56 5.44l.94 2.06.94-2.06 2.06-.94-2.06-.94-.94-2.06-.94 2.06-2.06.94zm-11 1L8.5 8.5l.94-2.06 2.06-.94-2.06-.94L8.5 2.5l-.94 2.06-2.06.94zm10 10l.94 2.06.94-2.06 2.06-.94-2.06-.94-.94-2.06-.94 2.06-2.06.94z\"/><path d=\"M17.41 7.96l-1.37-1.37c-.4-.4-.92-.59-1.43-.59-.52 0-1.04.2-1.43.59L10.3 9.45l-7.72 7.72c-.78.78-.78 2.05 0 2.83L4 21.41c.39.39.9.59 1.41.59.51 0 1.02-.2 1.41-.59l7.78-7.78 2.81-2.81c.8-.78.8-2.07 0-2.86zM5.41 20L4 18.59l7.72-7.72 1.47 1.35L5.41 20z\"/>\n",
       "  </svg>\n",
       "      </button>\n",
       "      \n",
       "  <style>\n",
       "    .colab-df-container {\n",
       "      display:flex;\n",
       "      flex-wrap:wrap;\n",
       "      gap: 12px;\n",
       "    }\n",
       "\n",
       "    .colab-df-convert {\n",
       "      background-color: #E8F0FE;\n",
       "      border: none;\n",
       "      border-radius: 50%;\n",
       "      cursor: pointer;\n",
       "      display: none;\n",
       "      fill: #1967D2;\n",
       "      height: 32px;\n",
       "      padding: 0 0 0 0;\n",
       "      width: 32px;\n",
       "    }\n",
       "\n",
       "    .colab-df-convert:hover {\n",
       "      background-color: #E2EBFA;\n",
       "      box-shadow: 0px 1px 2px rgba(60, 64, 67, 0.3), 0px 1px 3px 1px rgba(60, 64, 67, 0.15);\n",
       "      fill: #174EA6;\n",
       "    }\n",
       "\n",
       "    [theme=dark] .colab-df-convert {\n",
       "      background-color: #3B4455;\n",
       "      fill: #D2E3FC;\n",
       "    }\n",
       "\n",
       "    [theme=dark] .colab-df-convert:hover {\n",
       "      background-color: #434B5C;\n",
       "      box-shadow: 0px 1px 3px 1px rgba(0, 0, 0, 0.15);\n",
       "      filter: drop-shadow(0px 1px 2px rgba(0, 0, 0, 0.3));\n",
       "      fill: #FFFFFF;\n",
       "    }\n",
       "  </style>\n",
       "\n",
       "      <script>\n",
       "        const buttonEl =\n",
       "          document.querySelector('#df-eac0fe3b-6079-4315-ade7-67b11bdda3ad button.colab-df-convert');\n",
       "        buttonEl.style.display =\n",
       "          google.colab.kernel.accessAllowed ? 'block' : 'none';\n",
       "\n",
       "        async function convertToInteractive(key) {\n",
       "          const element = document.querySelector('#df-eac0fe3b-6079-4315-ade7-67b11bdda3ad');\n",
       "          const dataTable =\n",
       "            await google.colab.kernel.invokeFunction('convertToInteractive',\n",
       "                                                     [key], {});\n",
       "          if (!dataTable) return;\n",
       "\n",
       "          const docLinkHtml = 'Like what you see? Visit the ' +\n",
       "            '<a target=\"_blank\" href=https://colab.research.google.com/notebooks/data_table.ipynb>data table notebook</a>'\n",
       "            + ' to learn more about interactive tables.';\n",
       "          element.innerHTML = '';\n",
       "          dataTable['output_type'] = 'display_data';\n",
       "          await google.colab.output.renderOutput(dataTable, element);\n",
       "          const docLink = document.createElement('div');\n",
       "          docLink.innerHTML = docLinkHtml;\n",
       "          element.appendChild(docLink);\n",
       "        }\n",
       "      </script>\n",
       "    </div>\n",
       "  </div>\n",
       "  "
      ],
      "text/plain": [
       "                    Church  Enough/Satisfied  ...    Temple           You\n",
       "img_IDS                                       ...                        \n",
       "ImageID_USRB8QNG  0.000005          0.000004  ...  0.999973  2.060387e-06\n",
       "ImageID_SZ8D1ZJI  0.000005          0.999697  ...  0.000096  1.224312e-05\n",
       "ImageID_4OJO2F8J  0.000131          0.000036  ...  0.000001  2.875655e-07\n",
       "ImageID_IEE4XV0B  0.000020          0.000002  ...  0.000054  3.916280e-07\n",
       "\n",
       "[4 rows x 9 columns]"
      ]
     },
     "execution_count": 13,
     "metadata": {},
     "output_type": "execute_result"
    }
   ],
   "source": [
    "sumbm = TfSubmiter(processors=[normalize])\n",
    "submit = tf.data.TFRecordDataset(\"gs://chimps-first/data/tosubmit.tfrecords\").map(sumbm).batch(64)\n",
    "subcs = generator(submit,model,subcs)\n",
    "subcs.head(4)"
   ]
  },
  {
   "cell_type": "code",
   "execution_count": 14,
   "metadata": {
    "colab": {
     "base_uri": "https://localhost:8080/",
     "height": 17
    },
    "id": "MIcjwFh3Kruc",
    "outputId": "00ba639e-e8f9-4cfc-d5ec-af9f629ea7e0"
   },
   "outputs": [
    {
     "data": {
      "application/javascript": [
       "\n",
       "    async function download(id, filename, size) {\n",
       "      if (!google.colab.kernel.accessAllowed) {\n",
       "        return;\n",
       "      }\n",
       "      const div = document.createElement('div');\n",
       "      const label = document.createElement('label');\n",
       "      label.textContent = `Downloading \"${filename}\": `;\n",
       "      div.appendChild(label);\n",
       "      const progress = document.createElement('progress');\n",
       "      progress.max = size;\n",
       "      div.appendChild(progress);\n",
       "      document.body.appendChild(div);\n",
       "\n",
       "      const buffers = [];\n",
       "      let downloaded = 0;\n",
       "\n",
       "      const channel = await google.colab.kernel.comms.open(id);\n",
       "      // Send a message to notify the kernel that we're ready.\n",
       "      channel.send({})\n",
       "\n",
       "      for await (const message of channel.messages) {\n",
       "        // Send a message to notify the kernel that we're ready.\n",
       "        channel.send({})\n",
       "        if (message.buffers) {\n",
       "          for (const buffer of message.buffers) {\n",
       "            buffers.push(buffer);\n",
       "            downloaded += buffer.byteLength;\n",
       "            progress.value = downloaded;\n",
       "          }\n",
       "        }\n",
       "      }\n",
       "      const blob = new Blob(buffers, {type: 'application/binary'});\n",
       "      const a = document.createElement('a');\n",
       "      a.href = window.URL.createObjectURL(blob);\n",
       "      a.download = filename;\n",
       "      div.appendChild(a);\n",
       "      a.click();\n",
       "      div.remove();\n",
       "    }\n",
       "  "
      ],
      "text/plain": [
       "<IPython.core.display.Javascript object>"
      ]
     },
     "metadata": {},
     "output_type": "display_data"
    },
    {
     "data": {
      "application/javascript": [
       "download(\"download_daef101e-4007-4f25-a93f-942056f2f108\", \"eff_long_subm.csv\", 573708)"
      ],
      "text/plain": [
       "<IPython.core.display.Javascript object>"
      ]
     },
     "metadata": {},
     "output_type": "display_data"
    }
   ],
   "source": [
    "subcs.to_csv(\"eff_long_subm.csv\")\n",
    "from google.colab import files\n",
    "files.download('eff_long_subm.csv')"
   ]
  },
  {
   "cell_type": "code",
   "execution_count": null,
   "metadata": {
    "id": "JkagjxkF5KNG"
   },
   "outputs": [],
   "source": []
  }
 ],
 "metadata": {
  "accelerator": "TPU",
  "colab": {
   "collapsed_sections": [],
   "name": "PredictionGenerator.ipynb",
   "provenance": []
  },
  "kernelspec": {
   "display_name": "Python 3",
   "language": "python",
   "name": "python3"
  },
  "language_info": {
   "codemirror_mode": {
    "name": "ipython",
    "version": 3
   },
   "file_extension": ".py",
   "mimetype": "text/x-python",
   "name": "python",
   "nbconvert_exporter": "python",
   "pygments_lexer": "ipython3",
   "version": "3.8.10"
  }
 },
 "nbformat": 4,
 "nbformat_minor": 1
}
