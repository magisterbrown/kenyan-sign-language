{
 "cells": [
  {
   "cell_type": "code",
   "execution_count": 1,
   "metadata": {
    "id": "xX8lQcO9X2fZ"
   },
   "outputs": [],
   "source": [
    "!pip install -q  fastai==1.0.61"
   ]
  },
  {
   "cell_type": "code",
   "execution_count": 2,
   "metadata": {
    "colab": {
     "base_uri": "https://localhost:8080/",
     "height": 35
    },
    "id": "IqpCVWZKX2fc",
    "outputId": "1e265565-fb44-4e22-b085-9b72ca721caa"
   },
   "outputs": [
    {
     "data": {
      "text/plain": [
       "'1.0.61'"
      ]
     },
     "execution_count": 2,
     "metadata": {},
     "output_type": "execute_result"
    }
   ],
   "source": [
    "# check version of fastai\n",
    "import fastai\n",
    "\n",
    "fastai.__version__"
   ]
  },
  {
   "cell_type": "code",
   "execution_count": 3,
   "metadata": {
    "colab": {
     "base_uri": "https://localhost:8080/",
     "height": 35
    },
    "id": "IqpCVWZKX2fc",
    "outputId": "1e265565-fb44-4e22-b085-9b72ca721caa"
   },
   "outputs": [
    {
     "data": {
      "text/plain": [
       "'1.0.61'"
      ]
     },
     "execution_count": 3,
     "metadata": {},
     "output_type": "execute_result"
    }
   ],
   "source": [
    "# check version of fastai\n",
    "import fastai\n",
    "fastai.__version__"
   ]
  },
  {
   "cell_type": "code",
   "execution_count": 4,
   "metadata": {
    "id": "wu8922J87IjX"
   },
   "outputs": [],
   "source": [
    "import numpy as np \n",
    "import pandas as pd \n",
    "\n",
    "from fastai import *\n",
    "from fastai.vision import *\n",
    "from pathlib import Path\n",
    "import matplotlib.pyplot as plt\n",
    "\n",
    "import warnings\n",
    "warnings.filterwarnings('ignore')"
   ]
  },
  {
   "cell_type": "code",
   "execution_count": 2,
   "metadata": {},
   "outputs": [],
   "source": [
    "# For jupyter notebook to see the config/paths.py file\n",
    "import sys\n",
    "sys.path.append('../config/')\n",
    "\n",
    "from paths import train_path, test_path, data_dir, sample_submission_path"
   ]
  },
  {
   "cell_type": "markdown",
   "metadata": {
    "id": "BYvTYwE1tCYE"
   },
   "source": [
    "### tfms helps to do data augmentation on the data to have a better pixel values"
   ]
  },
  {
   "cell_type": "code",
   "execution_count": 6,
   "metadata": {
    "id": "1l-DfE8_HBjo"
   },
   "outputs": [],
   "source": [
    "tfms=get_transforms(do_flip=True,flip_vert=True,max_lighting=0.3,max_zoom=1.8,max_warp=0.2,max_rotate=45)"
   ]
  },
  {
   "cell_type": "markdown",
   "metadata": {
    "id": "iNDw6t_Ts9QH"
   },
   "source": [
    "### Read the data and pass the data augmentation function"
   ]
  },
  {
   "cell_type": "code",
   "execution_count": 7,
   "metadata": {},
   "outputs": [],
   "source": [
    "image_path = data_dir/\"images\""
   ]
  },
  {
   "cell_type": "code",
   "execution_count": 8,
   "metadata": {
    "id": "qaAV4wlvX2fp"
   },
   "outputs": [],
   "source": [
    "df = pd.read_csv(train_path)"
   ]
  },
  {
   "cell_type": "code",
   "execution_count": 9,
   "metadata": {
    "id": "pXntXuJ-8iuM"
   },
   "outputs": [],
   "source": [
    "data = ImageDataBunch.from_df(image_path,\n",
    "                              df,\n",
    "                              size=224,\n",
    "                              valid_pct=0.20,\n",
    "                              ds_tfms=tfms,\n",
    "                              num_workers=2,\n",
    "                              bs=8,\n",
    "                             suffix='.jpg').normalize(imagenet_stats)"
   ]
  },
  {
   "cell_type": "code",
   "execution_count": 10,
   "metadata": {
    "colab": {
     "base_uri": "https://localhost:8080/"
    },
    "id": "YKDF1XeXIU5q",
    "outputId": "91b80665-5a66-4ab1-a50f-866ee84c8da7"
   },
   "outputs": [
    {
     "name": "stdout",
     "output_type": "stream",
     "text": [
      "9\n"
     ]
    }
   ],
   "source": [
    "# There are 9 classes!\n",
    "print(data.c)"
   ]
  },
  {
   "cell_type": "code",
   "execution_count": 11,
   "metadata": {
    "colab": {
     "base_uri": "https://localhost:8080/",
     "height": 1000
    },
    "id": "5w3__pKI8vyL",
    "outputId": "ef68904b-d889-4d65-cdcf-af6305eacb27"
   },
   "outputs": [],
   "source": [
    "# Look at some examples\n",
    "# data.show_batch(rows=3, figsize=(15, 15)) "
   ]
  },
  {
   "cell_type": "markdown",
   "metadata": {
    "id": "H4hNJcTytKAt"
   },
   "source": [
    "### Create a baseline model using resnet18"
   ]
  },
  {
   "cell_type": "code",
   "execution_count": 12,
   "metadata": {
    "colab": {
     "base_uri": "https://localhost:8080/",
     "height": 66,
     "referenced_widgets": [
      "7b9f6c6d9c244ba1b6e4f8d104fb3636",
      "c6342c0c1d824bdfb0ca119663040b59",
      "8fbd5c279c7e4e4bae64ecb4ade963dc",
      "c48babc8c60a41909656b4ff93ccb065",
      "82965e00574249ad8d4f45ff895e4dcc",
      "12946f0e808744d490fea309eb9e1672",
      "58aa9e7493c646948594077b8ee106b6",
      "2425ace8988f4c9ea9346f7562b11f7c",
      "068e5fc15b4c4174ad1ad053cca38e01",
      "73a8849ef11d4385add63269b07a8065",
      "a63b0619f44e43bab01eeac8302add48"
     ]
    },
    "id": "6meZtinb9LfR",
    "outputId": "8e7ebf58-3f94-4317-ca66-431538ceb3fb"
   },
   "outputs": [
    {
     "name": "stderr",
     "output_type": "stream",
     "text": [
      "Downloading: \"https://download.pytorch.org/models/resnet18-f37072fd.pth\" to C:\\Users\\alifa/.cache\\torch\\hub\\checkpoints\\resnet18-f37072fd.pth\n"
     ]
    },
    {
     "data": {
      "application/vnd.jupyter.widget-view+json": {
       "model_id": "fa8df913bd3c42f6b48b8dd47e60018c",
       "version_major": 2,
       "version_minor": 0
      },
      "text/plain": [
       "  0%|          | 0.00/44.7M [00:00<?, ?B/s]"
      ]
     },
     "metadata": {},
     "output_type": "display_data"
    }
   ],
   "source": [
    "learn = cnn_learner(data, models.resnet18, metrics=[error_rate, accuracy])"
   ]
  },
  {
   "cell_type": "code",
   "execution_count": 13,
   "metadata": {
    "colab": {
     "base_uri": "https://localhost:8080/",
     "height": 142
    },
    "id": "1q64JLQ-9N6E",
    "outputId": "a094a226-5e72-49c8-9ffa-5e0cd468eff4"
   },
   "outputs": [
    {
     "data": {
      "text/html": [
       "<table border=\"1\" class=\"dataframe\">\n",
       "  <thead>\n",
       "    <tr style=\"text-align: left;\">\n",
       "      <th>epoch</th>\n",
       "      <th>train_loss</th>\n",
       "      <th>valid_loss</th>\n",
       "      <th>error_rate</th>\n",
       "      <th>accuracy</th>\n",
       "      <th>time</th>\n",
       "    </tr>\n",
       "  </thead>\n",
       "  <tbody>\n",
       "    <tr>\n",
       "      <td>0</td>\n",
       "      <td>3.093541</td>\n",
       "      <td>2.068223</td>\n",
       "      <td>0.708567</td>\n",
       "      <td>0.291433</td>\n",
       "      <td>08:27</td>\n",
       "    </tr>\n",
       "    <tr>\n",
       "      <td>1</td>\n",
       "      <td>2.583602</td>\n",
       "      <td>1.644255</td>\n",
       "      <td>0.562850</td>\n",
       "      <td>0.437150</td>\n",
       "      <td>08:07</td>\n",
       "    </tr>\n",
       "    <tr>\n",
       "      <td>2</td>\n",
       "      <td>2.503435</td>\n",
       "      <td>1.604768</td>\n",
       "      <td>0.554844</td>\n",
       "      <td>0.445156</td>\n",
       "      <td>08:35</td>\n",
       "    </tr>\n",
       "  </tbody>\n",
       "</table>"
      ],
      "text/plain": [
       "<IPython.core.display.HTML object>"
      ]
     },
     "metadata": {},
     "output_type": "display_data"
    }
   ],
   "source": [
    "# Fit\n",
    "num_epochs = 3\n",
    "learn.fit_one_cycle(num_epochs, 1e-4)"
   ]
  },
  {
   "cell_type": "markdown",
   "metadata": {
    "id": "8yI6aWPMIq1s"
   },
   "source": [
    "## predict on test set"
   ]
  },
  {
   "cell_type": "code",
   "execution_count": 14,
   "metadata": {
    "id": "R4PkffnmjvA5"
   },
   "outputs": [],
   "source": [
    "test_df = pd.read_csv(test_path)"
   ]
  },
  {
   "cell_type": "code",
   "execution_count": 15,
   "metadata": {
    "colab": {
     "base_uri": "https://localhost:8080/",
     "height": 204
    },
    "id": "wnSUcNjFks_e",
    "outputId": "a8cd4c5d-75a2-45ab-cdb6-627639e82b1f"
   },
   "outputs": [
    {
     "data": {
      "text/html": [
       "<div>\n",
       "<style scoped>\n",
       "    .dataframe tbody tr th:only-of-type {\n",
       "        vertical-align: middle;\n",
       "    }\n",
       "\n",
       "    .dataframe tbody tr th {\n",
       "        vertical-align: top;\n",
       "    }\n",
       "\n",
       "    .dataframe thead th {\n",
       "        text-align: right;\n",
       "    }\n",
       "</style>\n",
       "<table border=\"1\" class=\"dataframe\">\n",
       "  <thead>\n",
       "    <tr style=\"text-align: right;\">\n",
       "      <th></th>\n",
       "      <th>img_IDS</th>\n",
       "    </tr>\n",
       "  </thead>\n",
       "  <tbody>\n",
       "    <tr>\n",
       "      <th>0</th>\n",
       "      <td>ImageID_USRB8QNG</td>\n",
       "    </tr>\n",
       "    <tr>\n",
       "      <th>1</th>\n",
       "      <td>ImageID_SZ8D1ZJI</td>\n",
       "    </tr>\n",
       "    <tr>\n",
       "      <th>2</th>\n",
       "      <td>ImageID_4OJO2F8J</td>\n",
       "    </tr>\n",
       "    <tr>\n",
       "      <th>3</th>\n",
       "      <td>ImageID_IEE4XV0B</td>\n",
       "    </tr>\n",
       "    <tr>\n",
       "      <th>4</th>\n",
       "      <td>ImageID_BP0O0WZ9</td>\n",
       "    </tr>\n",
       "  </tbody>\n",
       "</table>\n",
       "</div>"
      ],
      "text/plain": [
       "            img_IDS\n",
       "0  ImageID_USRB8QNG\n",
       "1  ImageID_SZ8D1ZJI\n",
       "2  ImageID_4OJO2F8J\n",
       "3  ImageID_IEE4XV0B\n",
       "4  ImageID_BP0O0WZ9"
      ]
     },
     "execution_count": 15,
     "metadata": {},
     "output_type": "execute_result"
    }
   ],
   "source": [
    "test_df.head()"
   ]
  },
  {
   "cell_type": "code",
   "execution_count": 16,
   "metadata": {
    "id": "a-91HKcqlThK"
   },
   "outputs": [],
   "source": [
    "test = ImageList.from_df(test_df, image_path, suffix='.jpg')"
   ]
  },
  {
   "cell_type": "code",
   "execution_count": 17,
   "metadata": {
    "colab": {
     "base_uri": "https://localhost:8080/",
     "height": 17
    },
    "id": "FaAdlsAujnVj",
    "outputId": "46d5ddba-569f-47c8-ecb4-b5e19cff4f17"
   },
   "outputs": [],
   "source": [
    "data.add_test(test)"
   ]
  },
  {
   "cell_type": "code",
   "execution_count": 21,
   "metadata": {
    "colab": {
     "base_uri": "https://localhost:8080/",
     "height": 17
    },
    "id": "TP2qoGyc9TSm",
    "outputId": "01e5c461-cd53-4615-8d0d-e9f661d854a2"
   },
   "outputs": [
    {
     "data": {
      "text/html": [],
      "text/plain": [
       "<IPython.core.display.HTML object>"
      ]
     },
     "metadata": {},
     "output_type": "display_data"
    }
   ],
   "source": [
    "preds_test,y_test = learn.get_preds(DatasetType.Test)"
   ]
  },
  {
   "cell_type": "code",
   "execution_count": 43,
   "metadata": {
    "colab": {
     "base_uri": "https://localhost:8080/"
    },
    "id": "AUsr1jNfppQt",
    "outputId": "0095eb02-c300-40ee-ab69-34d3e748d9ba"
   },
   "outputs": [
    {
     "data": {
      "text/plain": [
       "tensor([0.0284, 0.0537, 0.2296,  ..., 0.0530, 0.1062, 0.0526])"
      ]
     },
     "execution_count": 43,
     "metadata": {},
     "output_type": "execute_result"
    }
   ],
   "source": [
    "preds_test[:, 0]  # Church predictions"
   ]
  },
  {
   "cell_type": "code",
   "execution_count": 28,
   "metadata": {
    "colab": {
     "base_uri": "https://localhost:8080/"
    },
    "id": "_k5ja2_-oo3t",
    "outputId": "f04b825a-9205-4099-9a53-aacdfea29c07"
   },
   "outputs": [
    {
     "data": {
      "text/plain": [
       "tensor([0, 0, 0,  ..., 0, 0, 0])"
      ]
     },
     "execution_count": 28,
     "metadata": {},
     "output_type": "execute_result"
    }
   ],
   "source": [
    "y_test"
   ]
  },
  {
   "cell_type": "code",
   "execution_count": 35,
   "metadata": {
    "id": "ZGXoC03l9WEH"
   },
   "outputs": [],
   "source": [
    "sub=pd.read_csv(sample_submission_path)\n",
    "k=[]\n",
    "for col in sub.columns: \n",
    "  k.append(col) # creating list of the label"
   ]
  },
  {
   "cell_type": "code",
   "execution_count": 36,
   "metadata": {
    "colab": {
     "base_uri": "https://localhost:8080/"
    },
    "id": "yF6iKrwHqDAv",
    "outputId": "bf75976a-f50c-45a2-f974-4e9e75331b95"
   },
   "outputs": [
    {
     "data": {
      "text/plain": [
       "['img_IDS',\n",
       " 'Church',\n",
       " 'Enough/Satisfied',\n",
       " 'Friend',\n",
       " 'Love',\n",
       " 'Me',\n",
       " 'Mosque',\n",
       " 'Seat',\n",
       " 'Temple',\n",
       " 'You']"
      ]
     },
     "execution_count": 36,
     "metadata": {},
     "output_type": "execute_result"
    }
   ],
   "source": [
    "k"
   ]
  },
  {
   "cell_type": "code",
   "execution_count": 37,
   "metadata": {
    "colab": {
     "base_uri": "https://localhost:8080/",
     "height": 357
    },
    "id": "Vcucw68Q9V91",
    "outputId": "447b0c22-bec6-4271-89d3-a47a4b8dddb7"
   },
   "outputs": [
    {
     "name": "stdout",
     "output_type": "stream",
     "text": [
      "Church\n",
      "Enough/Satisfied\n",
      "Friend\n",
      "Love\n",
      "Me\n",
      "Mosque\n",
      "Seat\n",
      "Temple\n",
      "You\n"
     ]
    },
    {
     "data": {
      "text/html": [
       "<div>\n",
       "<style scoped>\n",
       "    .dataframe tbody tr th:only-of-type {\n",
       "        vertical-align: middle;\n",
       "    }\n",
       "\n",
       "    .dataframe tbody tr th {\n",
       "        vertical-align: top;\n",
       "    }\n",
       "\n",
       "    .dataframe thead th {\n",
       "        text-align: right;\n",
       "    }\n",
       "</style>\n",
       "<table border=\"1\" class=\"dataframe\">\n",
       "  <thead>\n",
       "    <tr style=\"text-align: right;\">\n",
       "      <th></th>\n",
       "      <th>ID</th>\n",
       "      <th>Church</th>\n",
       "      <th>Enough/Satisfied</th>\n",
       "      <th>Friend</th>\n",
       "      <th>Love</th>\n",
       "      <th>Me</th>\n",
       "      <th>Mosque</th>\n",
       "      <th>Seat</th>\n",
       "      <th>Temple</th>\n",
       "      <th>You</th>\n",
       "    </tr>\n",
       "  </thead>\n",
       "  <tbody>\n",
       "    <tr>\n",
       "      <th>0</th>\n",
       "      <td>ImageID_USRB8QNG</td>\n",
       "      <td>0.028378</td>\n",
       "      <td>0.056988</td>\n",
       "      <td>0.031725</td>\n",
       "      <td>0.018164</td>\n",
       "      <td>0.121713</td>\n",
       "      <td>0.053303</td>\n",
       "      <td>0.326470</td>\n",
       "      <td>0.094763</td>\n",
       "      <td>0.268495</td>\n",
       "    </tr>\n",
       "    <tr>\n",
       "      <th>1</th>\n",
       "      <td>ImageID_SZ8D1ZJI</td>\n",
       "      <td>0.053656</td>\n",
       "      <td>0.798165</td>\n",
       "      <td>0.010558</td>\n",
       "      <td>0.001678</td>\n",
       "      <td>0.005340</td>\n",
       "      <td>0.091308</td>\n",
       "      <td>0.000542</td>\n",
       "      <td>0.028016</td>\n",
       "      <td>0.010736</td>\n",
       "    </tr>\n",
       "    <tr>\n",
       "      <th>2</th>\n",
       "      <td>ImageID_4OJO2F8J</td>\n",
       "      <td>0.229554</td>\n",
       "      <td>0.267089</td>\n",
       "      <td>0.014751</td>\n",
       "      <td>0.012230</td>\n",
       "      <td>0.041698</td>\n",
       "      <td>0.380654</td>\n",
       "      <td>0.022075</td>\n",
       "      <td>0.026446</td>\n",
       "      <td>0.005503</td>\n",
       "    </tr>\n",
       "    <tr>\n",
       "      <th>3</th>\n",
       "      <td>ImageID_IEE4XV0B</td>\n",
       "      <td>0.080038</td>\n",
       "      <td>0.017763</td>\n",
       "      <td>0.002533</td>\n",
       "      <td>0.040723</td>\n",
       "      <td>0.170535</td>\n",
       "      <td>0.069552</td>\n",
       "      <td>0.407223</td>\n",
       "      <td>0.019221</td>\n",
       "      <td>0.192412</td>\n",
       "    </tr>\n",
       "    <tr>\n",
       "      <th>4</th>\n",
       "      <td>ImageID_BP0O0WZ9</td>\n",
       "      <td>0.037722</td>\n",
       "      <td>0.014850</td>\n",
       "      <td>0.007672</td>\n",
       "      <td>0.042284</td>\n",
       "      <td>0.006422</td>\n",
       "      <td>0.037195</td>\n",
       "      <td>0.104518</td>\n",
       "      <td>0.385877</td>\n",
       "      <td>0.363461</td>\n",
       "    </tr>\n",
       "  </tbody>\n",
       "</table>\n",
       "</div>"
      ],
      "text/plain": [
       "                 ID    Church  Enough/Satisfied    Friend      Love        Me  \\\n",
       "0  ImageID_USRB8QNG  0.028378          0.056988  0.031725  0.018164  0.121713   \n",
       "1  ImageID_SZ8D1ZJI  0.053656          0.798165  0.010558  0.001678  0.005340   \n",
       "2  ImageID_4OJO2F8J  0.229554          0.267089  0.014751  0.012230  0.041698   \n",
       "3  ImageID_IEE4XV0B  0.080038          0.017763  0.002533  0.040723  0.170535   \n",
       "4  ImageID_BP0O0WZ9  0.037722          0.014850  0.007672  0.042284  0.006422   \n",
       "\n",
       "     Mosque      Seat    Temple       You  \n",
       "0  0.053303  0.326470  0.094763  0.268495  \n",
       "1  0.091308  0.000542  0.028016  0.010736  \n",
       "2  0.380654  0.022075  0.026446  0.005503  \n",
       "3  0.069552  0.407223  0.019221  0.192412  \n",
       "4  0.037195  0.104518  0.385877  0.363461  "
      ]
     },
     "execution_count": 37,
     "metadata": {},
     "output_type": "execute_result"
    }
   ],
   "source": [
    "import os\n",
    "submission = pd.DataFrame()\n",
    "submission[\"ID\"] = test_df[\"img_IDS\"]\n",
    "for i, c in enumerate(learn.data.classes):\n",
    "  print(c)\n",
    "  submission[c] = preds_test[:,i]\n",
    "submission.head()"
   ]
  },
  {
   "cell_type": "code",
   "execution_count": 38,
   "metadata": {
    "id": "1cmnFuB5JRu9"
   },
   "outputs": [],
   "source": [
    "submission.to_csv('baseline_model.csv', index=False)"
   ]
  },
  {
   "cell_type": "markdown",
   "metadata": {
    "id": "oSHASMG3r3LQ"
   },
   "source": [
    "## Improving your Model Accuracy"
   ]
  },
  {
   "cell_type": "markdown",
   "metadata": {
    "id": "ee0L8QcPr731"
   },
   "source": [
    "* Perform more data augmentation\n",
    "* Try other pre-trained model like (efficientnet model)\n",
    "* Improve the epochs size\n",
    "* Test Time Augmentations "
   ]
  }
 ],
 "metadata": {
  "accelerator": "GPU",
  "colab": {
   "collapsed_sections": [],
   "name": "Baseline.ipynb",
   "provenance": []
  },
  "kernelspec": {
   "display_name": "Python 3",
   "language": "python",
   "name": "python3"
  },
  "language_info": {
   "codemirror_mode": {
    "name": "ipython",
    "version": 3
   },
   "file_extension": ".py",
   "mimetype": "text/x-python",
   "name": "python",
   "nbconvert_exporter": "python",
   "pygments_lexer": "ipython3",
   "version": "3.8.8"
  },
  "widgets": {
   "application/vnd.jupyter.widget-state+json": {
    "068e5fc15b4c4174ad1ad053cca38e01": {
     "model_module": "@jupyter-widgets/base",
     "model_module_version": "1.2.0",
     "model_name": "LayoutModel",
     "state": {
      "_model_module": "@jupyter-widgets/base",
      "_model_module_version": "1.2.0",
      "_model_name": "LayoutModel",
      "_view_count": null,
      "_view_module": "@jupyter-widgets/base",
      "_view_module_version": "1.2.0",
      "_view_name": "LayoutView",
      "align_content": null,
      "align_items": null,
      "align_self": null,
      "border": null,
      "bottom": null,
      "display": null,
      "flex": null,
      "flex_flow": null,
      "grid_area": null,
      "grid_auto_columns": null,
      "grid_auto_flow": null,
      "grid_auto_rows": null,
      "grid_column": null,
      "grid_gap": null,
      "grid_row": null,
      "grid_template_areas": null,
      "grid_template_columns": null,
      "grid_template_rows": null,
      "height": null,
      "justify_content": null,
      "justify_items": null,
      "left": null,
      "margin": null,
      "max_height": null,
      "max_width": null,
      "min_height": null,
      "min_width": null,
      "object_fit": null,
      "object_position": null,
      "order": null,
      "overflow": null,
      "overflow_x": null,
      "overflow_y": null,
      "padding": null,
      "right": null,
      "top": null,
      "visibility": null,
      "width": null
     }
    },
    "12946f0e808744d490fea309eb9e1672": {
     "model_module": "@jupyter-widgets/controls",
     "model_module_version": "1.5.0",
     "model_name": "DescriptionStyleModel",
     "state": {
      "_model_module": "@jupyter-widgets/controls",
      "_model_module_version": "1.5.0",
      "_model_name": "DescriptionStyleModel",
      "_view_count": null,
      "_view_module": "@jupyter-widgets/base",
      "_view_module_version": "1.2.0",
      "_view_name": "StyleView",
      "description_width": ""
     }
    },
    "2425ace8988f4c9ea9346f7562b11f7c": {
     "model_module": "@jupyter-widgets/controls",
     "model_module_version": "1.5.0",
     "model_name": "ProgressStyleModel",
     "state": {
      "_model_module": "@jupyter-widgets/controls",
      "_model_module_version": "1.5.0",
      "_model_name": "ProgressStyleModel",
      "_view_count": null,
      "_view_module": "@jupyter-widgets/base",
      "_view_module_version": "1.2.0",
      "_view_name": "StyleView",
      "bar_color": null,
      "description_width": ""
     }
    },
    "58aa9e7493c646948594077b8ee106b6": {
     "model_module": "@jupyter-widgets/base",
     "model_module_version": "1.2.0",
     "model_name": "LayoutModel",
     "state": {
      "_model_module": "@jupyter-widgets/base",
      "_model_module_version": "1.2.0",
      "_model_name": "LayoutModel",
      "_view_count": null,
      "_view_module": "@jupyter-widgets/base",
      "_view_module_version": "1.2.0",
      "_view_name": "LayoutView",
      "align_content": null,
      "align_items": null,
      "align_self": null,
      "border": null,
      "bottom": null,
      "display": null,
      "flex": null,
      "flex_flow": null,
      "grid_area": null,
      "grid_auto_columns": null,
      "grid_auto_flow": null,
      "grid_auto_rows": null,
      "grid_column": null,
      "grid_gap": null,
      "grid_row": null,
      "grid_template_areas": null,
      "grid_template_columns": null,
      "grid_template_rows": null,
      "height": null,
      "justify_content": null,
      "justify_items": null,
      "left": null,
      "margin": null,
      "max_height": null,
      "max_width": null,
      "min_height": null,
      "min_width": null,
      "object_fit": null,
      "object_position": null,
      "order": null,
      "overflow": null,
      "overflow_x": null,
      "overflow_y": null,
      "padding": null,
      "right": null,
      "top": null,
      "visibility": null,
      "width": null
     }
    },
    "73a8849ef11d4385add63269b07a8065": {
     "model_module": "@jupyter-widgets/controls",
     "model_module_version": "1.5.0",
     "model_name": "DescriptionStyleModel",
     "state": {
      "_model_module": "@jupyter-widgets/controls",
      "_model_module_version": "1.5.0",
      "_model_name": "DescriptionStyleModel",
      "_view_count": null,
      "_view_module": "@jupyter-widgets/base",
      "_view_module_version": "1.2.0",
      "_view_name": "StyleView",
      "description_width": ""
     }
    },
    "7b9f6c6d9c244ba1b6e4f8d104fb3636": {
     "model_module": "@jupyter-widgets/controls",
     "model_module_version": "1.5.0",
     "model_name": "HBoxModel",
     "state": {
      "_dom_classes": [],
      "_model_module": "@jupyter-widgets/controls",
      "_model_module_version": "1.5.0",
      "_model_name": "HBoxModel",
      "_view_count": null,
      "_view_module": "@jupyter-widgets/controls",
      "_view_module_version": "1.5.0",
      "_view_name": "HBoxView",
      "box_style": "",
      "children": [
       "IPY_MODEL_8fbd5c279c7e4e4bae64ecb4ade963dc",
       "IPY_MODEL_c48babc8c60a41909656b4ff93ccb065",
       "IPY_MODEL_82965e00574249ad8d4f45ff895e4dcc"
      ],
      "layout": "IPY_MODEL_c6342c0c1d824bdfb0ca119663040b59"
     }
    },
    "82965e00574249ad8d4f45ff895e4dcc": {
     "model_module": "@jupyter-widgets/controls",
     "model_module_version": "1.5.0",
     "model_name": "HTMLModel",
     "state": {
      "_dom_classes": [],
      "_model_module": "@jupyter-widgets/controls",
      "_model_module_version": "1.5.0",
      "_model_name": "HTMLModel",
      "_view_count": null,
      "_view_module": "@jupyter-widgets/controls",
      "_view_module_version": "1.5.0",
      "_view_name": "HTMLView",
      "description": "",
      "description_tooltip": null,
      "layout": "IPY_MODEL_a63b0619f44e43bab01eeac8302add48",
      "placeholder": "​",
      "style": "IPY_MODEL_73a8849ef11d4385add63269b07a8065",
      "value": " 44.7M/44.7M [00:00&lt;00:00, 76.4MB/s]"
     }
    },
    "8fbd5c279c7e4e4bae64ecb4ade963dc": {
     "model_module": "@jupyter-widgets/controls",
     "model_module_version": "1.5.0",
     "model_name": "HTMLModel",
     "state": {
      "_dom_classes": [],
      "_model_module": "@jupyter-widgets/controls",
      "_model_module_version": "1.5.0",
      "_model_name": "HTMLModel",
      "_view_count": null,
      "_view_module": "@jupyter-widgets/controls",
      "_view_module_version": "1.5.0",
      "_view_name": "HTMLView",
      "description": "",
      "description_tooltip": null,
      "layout": "IPY_MODEL_58aa9e7493c646948594077b8ee106b6",
      "placeholder": "​",
      "style": "IPY_MODEL_12946f0e808744d490fea309eb9e1672",
      "value": "100%"
     }
    },
    "a63b0619f44e43bab01eeac8302add48": {
     "model_module": "@jupyter-widgets/base",
     "model_module_version": "1.2.0",
     "model_name": "LayoutModel",
     "state": {
      "_model_module": "@jupyter-widgets/base",
      "_model_module_version": "1.2.0",
      "_model_name": "LayoutModel",
      "_view_count": null,
      "_view_module": "@jupyter-widgets/base",
      "_view_module_version": "1.2.0",
      "_view_name": "LayoutView",
      "align_content": null,
      "align_items": null,
      "align_self": null,
      "border": null,
      "bottom": null,
      "display": null,
      "flex": null,
      "flex_flow": null,
      "grid_area": null,
      "grid_auto_columns": null,
      "grid_auto_flow": null,
      "grid_auto_rows": null,
      "grid_column": null,
      "grid_gap": null,
      "grid_row": null,
      "grid_template_areas": null,
      "grid_template_columns": null,
      "grid_template_rows": null,
      "height": null,
      "justify_content": null,
      "justify_items": null,
      "left": null,
      "margin": null,
      "max_height": null,
      "max_width": null,
      "min_height": null,
      "min_width": null,
      "object_fit": null,
      "object_position": null,
      "order": null,
      "overflow": null,
      "overflow_x": null,
      "overflow_y": null,
      "padding": null,
      "right": null,
      "top": null,
      "visibility": null,
      "width": null
     }
    },
    "c48babc8c60a41909656b4ff93ccb065": {
     "model_module": "@jupyter-widgets/controls",
     "model_module_version": "1.5.0",
     "model_name": "FloatProgressModel",
     "state": {
      "_dom_classes": [],
      "_model_module": "@jupyter-widgets/controls",
      "_model_module_version": "1.5.0",
      "_model_name": "FloatProgressModel",
      "_view_count": null,
      "_view_module": "@jupyter-widgets/controls",
      "_view_module_version": "1.5.0",
      "_view_name": "ProgressView",
      "bar_style": "success",
      "description": "",
      "description_tooltip": null,
      "layout": "IPY_MODEL_068e5fc15b4c4174ad1ad053cca38e01",
      "max": 46830571,
      "min": 0,
      "orientation": "horizontal",
      "style": "IPY_MODEL_2425ace8988f4c9ea9346f7562b11f7c",
      "value": 46830571
     }
    },
    "c6342c0c1d824bdfb0ca119663040b59": {
     "model_module": "@jupyter-widgets/base",
     "model_module_version": "1.2.0",
     "model_name": "LayoutModel",
     "state": {
      "_model_module": "@jupyter-widgets/base",
      "_model_module_version": "1.2.0",
      "_model_name": "LayoutModel",
      "_view_count": null,
      "_view_module": "@jupyter-widgets/base",
      "_view_module_version": "1.2.0",
      "_view_name": "LayoutView",
      "align_content": null,
      "align_items": null,
      "align_self": null,
      "border": null,
      "bottom": null,
      "display": null,
      "flex": null,
      "flex_flow": null,
      "grid_area": null,
      "grid_auto_columns": null,
      "grid_auto_flow": null,
      "grid_auto_rows": null,
      "grid_column": null,
      "grid_gap": null,
      "grid_row": null,
      "grid_template_areas": null,
      "grid_template_columns": null,
      "grid_template_rows": null,
      "height": null,
      "justify_content": null,
      "justify_items": null,
      "left": null,
      "margin": null,
      "max_height": null,
      "max_width": null,
      "min_height": null,
      "min_width": null,
      "object_fit": null,
      "object_position": null,
      "order": null,
      "overflow": null,
      "overflow_x": null,
      "overflow_y": null,
      "padding": null,
      "right": null,
      "top": null,
      "visibility": null,
      "width": null
     }
    }
   }
  }
 },
 "nbformat": 4,
 "nbformat_minor": 1
}
